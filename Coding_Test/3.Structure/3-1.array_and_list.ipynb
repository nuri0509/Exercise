{
 "cells": [
  {
   "cell_type": "code",
   "execution_count": null,
   "metadata": {
    "vscode": {
     "languageId": "plaintext"
    }
   },
   "outputs": [],
   "source": [
    "# 배열과 리스트"
   ]
  },
  {
   "cell_type": "code",
   "execution_count": null,
   "metadata": {
    "vscode": {
     "languageId": "plaintext"
    }
   },
   "outputs": [],
   "source": [
    "# 배열의 특징\n",
    "1. 인덱스를 사용하여 값에 바로 접근할수있다.\n",
    "2. 새로운 값을 삽입하거나 특정인덱스에 있는 값을 삭제하기 어렵다. \n",
    "   값을 삽입하거나 삭제하려면 해당 인덱스 주변에 있는 값을 이동시키는 과정이 필요하다\n",
    "3. 배열의 크기는 선언할 때 지정할 수 있으며, 한 번 선언하면 크기를 늘리거나 줄일 수 없다.\n",
    "4. 구조가 간단하므로 코딩 테스트에서 많이 사용한다.   "
   ]
  },
  {
   "cell_type": "markdown",
   "metadata": {},
   "source": [
    "# 리스트의 특징\n",
    "1. 인덱스가 없으므로 값에 접근하려면 head 포인터 부터 순서대로 접근해야 한다.\n",
    "   다시 말해 값에 접근하는 속도가 느리다.\n",
    "2. 포인터로 연결되어 있으므로 데이터를 삽입하거나 삭제하는 연산 속도가 빠르다.\n",
    "3. 선언할 때 크기를 별도로 지정하지 않아도 된다. 다시 말해 리스트의 크기는 정해져 있지 않으며,\n",
    "   크기가 변하기 쉬운 데이터를 다룰 때 적절하다.\n",
    "4. 포인터를 저장할 공간이 필요하므로 배열보다 구조가 복잡하다."
   ]
  },
  {
   "cell_type": "markdown",
   "metadata": {},
   "source": [
    "# (파이썬에서는 배열과 리스트를 구분 하지 않음)\n",
    ":파이썬의 리스트는 리스트의 특징과 배열의 특징까지 모두 가지도록 설계\n",
    "  => 다른언어보다 쉽게 정답 코드를 구현할수있음"
   ]
  },
  {
   "cell_type": "markdown",
   "metadata": {},
   "source": []
  },
  {
   "cell_type": "markdown",
   "metadata": {},
   "source": [
    "(문제001) 숫자의 합 구하기\n",
    "N개의 숫자가 공백없이 써있다. 이 숫자를 모두 합해 출력하는 프로그램을 작성하시오.\n",
    "\n",
    "(입력) 1번째 줄에 숫자의 개수 N(1 <= N<= 100), \n",
    "       2번째 줄에 숫자 N개가 공백없이 주어진다\n",
    "\n",
    "(출력) 입력으로 주어진 숫자 N개의 합을 출력한다.\n",
    "\n"
   ]
  },
  {
   "cell_type": "markdown",
   "metadata": {},
   "source": [
    "# solution\n",
    "(1) 숫자의 갯수만큼 입력받은 갓을 리스트 형태로 저장합니다\n",
    "\n",
    "(2) numbers 리스트를 탐색하며 각 값을 정수형으로 변환하여 결괏값에 더하여 누적합니다.\n"
   ]
  },
  {
   "cell_type": "markdown",
   "metadata": {},
   "source": [
    "# pseudo_code\n",
    "n값 받기\n",
    "numbers 변수에 list 함수를 이용하여 숫자를 한 자리씩 나누어 받기\n",
    "sum 변수선언\n",
    "\n",
    "for numbers 탐색 : \n",
    "    sum 변수에 numbers에 있는 각 자릿수를 가져와 더하기\n",
    "\n",
    "sum 출력"
   ]
  },
  {
   "cell_type": "code",
   "execution_count": null,
   "metadata": {
    "vscode": {
     "languageId": "plaintext"
    }
   },
   "outputs": [],
   "source": [
    "# 코드 구현하기\n",
    "\n",
    "n = input()\n",
    "numbers = list(input())\n",
    "sum = 0\n",
    "\n",
    "for i in numbers :\n",
    "    sum = sum + int(i)\n",
    "\n",
    "print(sum)"
   ]
  },
  {
   "cell_type": "markdown",
   "metadata": {},
   "source": []
  },
  {
   "cell_type": "markdown",
   "metadata": {},
   "source": [
    "(문제002) 평균 구하기\n",
    "세준이는 기말고사를 망쳤다. 그래서 점수를 조작해 집에 가져가기로 결심했다. \n",
    "일단 세준이는 자기 점수중 최댓값을 골랐다.그런다음 최댓값을 M이라 할때, 모든 점수를  점수/M *100으로 고쳤다.\n",
    "예를들어 세준이의 최고점이 70점, 수학점수가 50점이라면 수학점수는 50/70*100 이므로 71.43점이다.\n",
    "세준이의 성적을 이 방법으로 계산했을때 새로운 평균을 구하는 프로그램을 작성하시오.\n"
   ]
  },
  {
   "cell_type": "markdown",
   "metadata": {},
   "source": [
    "(입력) 1번째 줄에 시험을 본 과목의 개수 N이 주어진다. 해당값은 1,000보다 작거나 같다.\n",
    "      2번째 줄에 세준이의 현재 성적이 주어진다. 해당 값은 100보다 작거나 같은, 음이 아닌 정수이고,\n",
    "      적어도 1개의 값은 0보다 크다.\n",
    "\n",
    "(출력) 1번째 줄에 새로운 평균을 출력한다. 실제 정답과 출력값의 절대 오차 또는 상대 오차가 10**-2 이하이면\n",
    "       정답이다.\n",
    "       \n"
   ]
  },
  {
   "cell_type": "markdown",
   "metadata": {},
   "source": [
    "# solution\n",
    "1. 점수를 1차원 리스트에 저장합니다.\n",
    "2. 리스트를 탐색하며 최고 점수와 점수의 총합을 구합니다.\n",
    "3. '총합*100/최고 점수/과목의 수'를 계산해 다시 계산한 점수의 평균값을 출력합니다."
   ]
  },
  {
   "cell_type": "markdown",
   "metadata": {},
   "source": [
    "# pseudo_code\n",
    "n에 과목의 수 입력\n",
    "mylist에 점수 정보 저장\n",
    "mymax에 mylist 정보 중 최댓값 저장\n",
    "sum에 mylist 모든 데이터 값 정하기\n",
    "sum * 100 / mymax / n 출력"
   ]
  },
  {
   "cell_type": "code",
   "execution_count": null,
   "metadata": {
    "vscode": {
     "languageId": "plaintext"
    }
   },
   "outputs": [],
   "source": [
    "# 코드 구현하기\n",
    "n = input()\n",
    "mylist = list(map(int, input().split()))\n",
    "mymax = max(mylist)\n",
    "sum = sum(mylist)\n",
    "\n",
    "# 한 과목과 관련된 수식을 총합한 후 관련 수식으로 변환해 로직을 간단하게 할 수 있음.\n",
    "print(sum*100 / mymax / int(n))"
   ]
  }
 ],
 "metadata": {
  "language_info": {
   "name": "python"
  }
 },
 "nbformat": 4,
 "nbformat_minor": 2
}
