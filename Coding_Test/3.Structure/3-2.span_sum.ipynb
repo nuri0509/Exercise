{
 "cells": [
  {
   "cell_type": "markdown",
   "metadata": {},
   "source": [
    "# 구간 합의 핵심 이론\n"
   ]
  },
  {
   "cell_type": "markdown",
   "metadata": {},
   "source": [
    "합 배열 S의 정의\n",
    "\n",
    "S[i] = A[0] + A[1] + A[2] + ....+ A[i-1] + A[i]    \n",
    "\n",
    "=> A[0]부터 A[i]까지의 합"
   ]
  },
  {
   "cell_type": "markdown",
   "metadata": {},
   "source": [
    "합 배열 S를 만드는 공식\n",
    "\n",
    "S[i] = S[i-1] + A[i]"
   ]
  },
  {
   "cell_type": "markdown",
   "metadata": {},
   "source": [
    "구간 합을 구하는 공식\n",
    "\n",
    "S[j] - S[i-1]\n",
    "\n",
    "=> i에서 j까지의 구간 합"
   ]
  },
  {
   "cell_type": "markdown",
   "metadata": {},
   "source": [
    "A[2]~A[5]의 구간 합을 합 배열로 구하는 과정\n",
    "\n",
    "S[5] = A[0] + A[1] +...+ A[5]\n",
    "S[1] = A[0] + A[1]\n",
    "S[5] - S[1] = A[2] + A[3] + A[4] + A[5]"
   ]
  },
  {
   "cell_type": "markdown",
   "metadata": {},
   "source": [
    "(문제003)수 N개가 주어졌을 떄 i번째 수에서 j번째 수까지의 합을 구하는 프로그램을 작성하시오.\n",
    "\n"
   ]
  },
  {
   "cell_type": "markdown",
   "metadata": {},
   "source": [
    "(input) 1번째 줄에 수의 개수 N( 1<=N<=100,000), \n",
    "합을 구해야 하는 횟수 M( 1<=M<=100,000), 2번째 줄에 N개의 수가 주어진다.\n",
    "각 수는 1000보다 작거나 같은 자연수이다. 3번째 줄 부터는 M개의 줄에 합을 구해야하는 \n",
    "구간 i와 j가 주어진다\n"
   ]
  },
  {
   "cell_type": "markdown",
   "metadata": {},
   "source": [
    "(output) 총 M개의 줄에 입력으로 주어진 i번째 수에서 j번째 수까지의 합을 출력한다."
   ]
  },
  {
   "cell_type": "markdown",
   "metadata": {},
   "source": [
    "(solution)\n",
    "\n",
    "1. N개의 수를 입력받음과 동시에 합배열을 생성합니다\n",
    "2. 구간 i~j 가 주어지면 구간 합을 구하는 공식으로 정답을 출력합니다"
   ]
  },
  {
   "cell_type": "markdown",
   "metadata": {},
   "source": [
    "(pseudo_code)\n",
    "\n",
    "suNo(숫자 개수), quizNo(질의 개수)\n",
    "numbers 변수에 숫자 데이터 저장\n",
    "prefix_sum 합 배열 변수 선언\n",
    "temp 변수선언\n",
    "\n",
    "for 저장한 숫자 데이터 차례대로 탐색 : \n",
    "    temp에 현재 숫자 데이터 더해주기\n",
    "    합 배열에 tem값 저장\n",
    "\n",
    "for 질의 개수만큼 반복 :\n",
    "    질의 범위 받기(s~e)\n",
    "    구간 합 출력하기( prefix_sum[e] - prefix_sum[s-1] )"
   ]
  },
  {
   "cell_type": "code",
   "execution_count": 1,
   "metadata": {},
   "outputs": [],
   "source": [
    "# 코드 구현하기\n",
    "import sys\n",
    "input = sys.stdin.readline\n",
    "suNo, quizNo = map(int, input().split())\n",
    "numbers = list(map(int, input().split()))\n",
    "prefix_sum =[0]\n",
    "temp = 0\n",
    "\n",
    "for i in numbers :\n",
    "    temp = temp + i\n",
    "    prefix_sum.append(temp)\n",
    "\n",
    "for i in range(quizNo) :\n",
    "    s, e= map(int, input().split())\n",
    "    print(prefix_sum[e] - prefix_sum[s-1])"
   ]
  },
  {
   "cell_type": "markdown",
   "metadata": {},
   "source": [
    "(문제004) 구간 합 구하기 2"
   ]
  },
  {
   "cell_type": "markdown",
   "metadata": {},
   "source": []
  },
  {
   "cell_type": "markdown",
   "metadata": {},
   "source": []
  },
  {
   "cell_type": "markdown",
   "metadata": {},
   "source": []
  },
  {
   "cell_type": "markdown",
   "metadata": {},
   "source": []
  },
  {
   "cell_type": "markdown",
   "metadata": {},
   "source": []
  },
  {
   "cell_type": "markdown",
   "metadata": {},
   "source": []
  }
 ],
 "metadata": {
  "kernelspec": {
   "display_name": "Python 3",
   "language": "python",
   "name": "python3"
  },
  "language_info": {
   "codemirror_mode": {
    "name": "ipython",
    "version": 3
   },
   "file_extension": ".py",
   "mimetype": "text/x-python",
   "name": "python",
   "nbconvert_exporter": "python",
   "pygments_lexer": "ipython3",
   "version": "3.12.0"
  }
 },
 "nbformat": 4,
 "nbformat_minor": 2
}
