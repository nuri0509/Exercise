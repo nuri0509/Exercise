{
 "cells": [
  {
   "cell_type": "markdown",
   "metadata": {},
   "source": [
    "# 구간 합의 핵심 이론\n"
   ]
  },
  {
   "cell_type": "markdown",
   "metadata": {},
   "source": [
    "합 배열 S의 정의\n",
    "\n",
    "S[i] = A[0] + A[1] + A[2] + ....+ A[i-1] + A[i]    \n",
    "\n",
    "=> A[0]부터 A[i]까지의 합"
   ]
  },
  {
   "cell_type": "markdown",
   "metadata": {},
   "source": [
    "합 배열 S를 만드는 공식\n",
    "\n",
    "S[i] = S[i-1] + A[i]"
   ]
  },
  {
   "cell_type": "markdown",
   "metadata": {},
   "source": [
    "구간 합을 구하는 공식\n",
    "\n",
    "S[j] - S[i-1]\n",
    "\n",
    "=> i에서 j까지의 구간 합"
   ]
  },
  {
   "cell_type": "markdown",
   "metadata": {},
   "source": [
    "A[2]~A[5]의 구간 합을 합 배열로 구하는 과정\n",
    "\n",
    "S[5] = A[0] + A[1] +...+ A[5]\n",
    "S[1] = A[0] + A[1]\n",
    "S[5] - S[1] = A[2] + A[3] + A[4] + A[5]"
   ]
  },
  {
   "cell_type": "markdown",
   "metadata": {},
   "source": [
    "(문제003)수 N개가 주어졌을 떄 i번째 수에서 j번째 수까지의 합을 구하는 프로그램을 작성하시오.\n",
    "\n"
   ]
  },
  {
   "cell_type": "markdown",
   "metadata": {},
   "source": [
    "(input) 1번째 줄에 수의 개수 N( 1<=N<=100,000), \n",
    "합을 구해야 하는 횟수 M( 1<=M<=100,000), 2번째 줄에 N개의 수가 주어진다.\n",
    "각 수는 1000보다 작거나 같은 자연수이다. 3번째 줄 부터는 M개의 줄에 합을 구해야하는 \n",
    "구간 i와 j가 주어진다\n"
   ]
  },
  {
   "cell_type": "markdown",
   "metadata": {},
   "source": [
    "(output) 총 M개의 줄에 입력으로 주어진 i번째 수에서 j번째 수까지의 합을 출력한다."
   ]
  },
  {
   "cell_type": "markdown",
   "metadata": {},
   "source": [
    "(solution)\n",
    "\n",
    "1. N개의 수를 입력받음과 동시에 합배열을 생성합니다\n",
    "2. 구간 i~j 가 주어지면 구간 합을 구하는 공식으로 정답을 출력합니다"
   ]
  },
  {
   "cell_type": "markdown",
   "metadata": {},
   "source": [
    "(pseudo_code)\n",
    "\n",
    "suNo(숫자 개수), quizNo(질의 개수)\n",
    "numbers 변수에 숫자 데이터 저장\n",
    "prefix_sum 합 배열 변수 선언\n",
    "temp 변수선언\n",
    "\n",
    "for 저장한 숫자 데이터 차례대로 탐색 : \n",
    "    temp에 현재 숫자 데이터 더해주기\n",
    "    합 배열에 tem값 저장\n",
    "\n",
    "for 질의 개수만큼 반복 :\n",
    "    질의 범위 받기(s~e)\n",
    "    구간 합 출력하기( prefix_sum[e] - prefix_sum[s-1] )"
   ]
  },
  {
   "cell_type": "code",
   "execution_count": 1,
   "metadata": {},
   "outputs": [],
   "source": [
    "# 코드 구현하기\n",
    "import sys\n",
    "input = sys.stdin.readline\n",
    "suNo, quizNo = map(int, input().split())\n",
    "numbers = list(map(int, input().split()))\n",
    "prefix_sum =[0]\n",
    "temp = 0\n",
    "\n",
    "for i in numbers :\n",
    "    temp = temp + i\n",
    "    prefix_sum.append(temp)\n",
    "\n",
    "for i in range(quizNo) :\n",
    "    s, e= map(int, input().split())\n",
    "    print(prefix_sum[e] - prefix_sum[s-1])"
   ]
  },
  {
   "cell_type": "markdown",
   "metadata": {},
   "source": [
    "(문제004) 구간 합 구하기 2\n",
    "N*N개의 수가 N*N 크기의 표에 채워져있다. 표 안의 수중 (X1,Y1)에 서 (X2,Y2)까지의 합을 구하려 한다.\n",
    "X는 행, Y는 열을 의미한다. 예를 들어 N = 4이고, 표가 다음과 같이 채워져있을때를 살펴보자. (2,2)에서\n",
    "(3,4)까지의 합을 구하면 3+4+5+4+5+6 = 27이고, (4,4)에서 (4,4)까지의 합을 구하면 7이다.\n",
    "표에 채워져있는 수와 합을 구하는 연산이 주어졌을때, 이를 처리하는 프로그램을 작성하시오\n",
    "\n",
    "# 표 예시\n",
    "1 2 3 4 \n",
    "2 3 4 5\n",
    "3 4 5 6\n",
    "4 5 6 7"
   ]
  },
  {
   "cell_type": "markdown",
   "metadata": {},
   "source": [
    "(input)\n",
    "1번째 줄에 표의 크기 N과 합을 구해야하는 횟수 M이 주어진다( 1<=N<=1024 , 1<=M<=100,000 ).\n",
    "2번째 줄부터 N개의 줄에는 표에 채워져있는 수가 1행부터 차례대로 주어진다. 다음M개의 줄에는 4개의 정수 X1, Y1, X2, Y2가 주어지며, (X1,Y1)에서 (X2,Y2)의 합을 구해 출력해야 한다. 표에 채워져있는 수는 1000보다 작거나 같은 자연수다( X1<=X2, Y1<=Y2 )."
   ]
  },
  {
   "cell_type": "markdown",
   "metadata": {},
   "source": [
    "(output)\n",
    "총 M줄에 걸쳐 (X1,Y1)에서 (X2,Y2)까지 합을 구해 출력한다."
   ]
  },
  {
   "cell_type": "markdown",
   "metadata": {},
   "source": [
    "(pseudo_code)\n",
    "n(리스트 크기) m(질의 수)\n",
    "A(원본 리스트),D(합 배열)\n",
    "\n",
    "for n만큼 반복 : \n",
    "    원본 리스트 데이터 저장\n",
    "\n",
    "for i 를 1부터 n까지 반복:\n",
    "    for j를 1부터 n까지 반복:\n",
    "        합 배열 저장\n",
    "        D[i][j] = D[i][i-j] + D[i-1][j] - D[i-1][j-1] + A[i][j];\n",
    "\n",
    "for m만큼 반복 : \n",
    "    질의에 대한 결과 계산 및 출력\n",
    "    결과 = D[x2][y2] - D[x1-1][y2] - D[x2][y1-1] + D[x1-1][y1-1]\n",
    "    "
   ]
  },
  {
   "cell_type": "code",
   "execution_count": null,
   "metadata": {
    "vscode": {
     "languageId": "plaintext"
    }
   },
   "outputs": [],
   "source": [
    "# 코드 구현하기\n",
    "\n",
    "import sys\n",
    "input = sys.stdin.readline\n",
    "n, m = map(int, input().split())\n",
    "A = [[0]*(n+1)]\n",
    "D = [[0]*(n+1) for _ in range (n+1)]\n",
    "\n",
    "for i in range(n):\n",
    "    A_row = [0] + [int(x) for x in input().split()]\n",
    "    A.append(A_row)\n",
    "\n",
    "for i in range(1, n+1):\n",
    "    for j in range(1 +n+1):\n",
    "        # 합 배열 구하기\n",
    "        D[i][j] = D[i][j-1] + D[i-1][j] - D[i-1][j-1] +A[i][j]\n",
    "\n",
    "for _ in range(m):\n",
    "    x1, y1, x2, y2 = map(int, input().split())\n",
    "    # 구간 합 배열로 질의에 답변\n",
    "    result = D[x2][y2] - D[x1-1][y2] - D[x2][y1-1] + D[x1-1][y1-1]\n",
    "    print(result)"
   ]
  },
  {
   "cell_type": "markdown",
   "metadata": {},
   "source": [
    "(문제 005) 나머지 합 구하기\n",
    "N개의 수 A1, A2,...,An이 주어졌을 때 연속된 부분의 합이 M으로 나누어 떨어지는 구간의 개수를 구하는 프로그램을 작성하시오. 즉 Ai + ....+ Aj(i<=j)의 합이 M으로 나누어 떨어지는 (i,j)쌍의 개수를 구하시오."
   ]
  },
  {
   "cell_type": "markdown",
   "metadata": {},
   "source": [
    "(input) 1번째 줄에 N과 M(1<=N<=106 , 2<=M<=103), 2번째 줄에 N개의 수 A1, A2, ...,An이 주어진다(0<=Ai<=109)"
   ]
  },
  {
   "cell_type": "markdown",
   "metadata": {},
   "source": [
    "(output) 1번째 줄에 연속된 부분의 합이 M으로 나누어 떨어지는 구간의 갯수를 출력한다"
   ]
  },
  {
   "cell_type": "markdown",
   "metadata": {},
   "source": [
    "(idea) - 나머지 합 문제 풀이의 핵심 아이디어\n",
    "** (A+B)%C 는 ((A%C)+(B%C))%C 와 같다. 다시 말해 특정 구간수들의 나머지 연산을 더해 나머지 연산을 한 값과\n",
    "   이 구간 합의 나머지 연산을 한 값은 동일하다.\n",
    "\n",
    "** 구간 합 배열을 이용한 식 S[i] - S[j]는 원본 리스트의 j+1부터 i까지의 구간합이다.\n",
    "\n",
    "** S[i] % M 의 값과 S[j] % M 의 값이 같다면 (S[i] - S[j]) % M은 0이다.  즉, 구간 합 배열의 원소를 M으로 나눈 \n",
    "   나머지를 업데이트 하고 S[i]와 S[j]가 같은 (i,j)쌍을 찾으면 원본리스트에서 j+1 부터 i 까지의 구간합이 M으로 나누어 떨어진다는것을 알 수 있다."
   ]
  },
  {
   "cell_type": "markdown",
   "metadata": {},
   "source": [
    "(pseudo_code)\n",
    "n 입력받기(수열의 개수)\n",
    "m 입력받기(나누어 떨어져야 하는 수)\n",
    "A 입력받기(원본 수열 저장 리스트)\n",
    "S 선언하기(합 배열)\n",
    "C 선언하기(같은 나머지의 인덱스를 카운트하는 리스트)\n",
    "answer 선언하기(정답 변수)\n",
    "\n",
    "for i -> 1 ~ n-1:\n",
    "    S[i] = S[i-1] + A[i]  # 합 배열 저장\n",
    "\n",
    "for i -> 0 ~ n-1:\n",
    "    remainder = S[i] % M  #합 배열을 M으로 나눈 나머지 값\n",
    "    if (remainder == 0) 정답을 1 증가\n",
    "    C[remainder]의 값을 1 증가\n",
    "\n",
    "for i -> 0~m - 1 :\n",
    "    C[i](i가 나머지인 인덱스의 개수)에서 2가지를 뽑는 경우의 수를 정답에 더하기\n",
    "    #C[i]개 중 2개를 뽑는 경우의 수 계산 공식 C[i] * (C[i]-1) / 2\n",
    "\n",
    "결괏값(answer) 출력"
   ]
  },
  {
   "cell_type": "code",
   "execution_count": null,
   "metadata": {
    "vscode": {
     "languageId": "plaintext"
    }
   },
   "outputs": [],
   "source": [
    "# 코드 구현하기\n",
    "import sys\n",
    "input = sys.stdin.readline\n",
    "n, m = list(map(int, input().split()))\n",
    "A = list(map(int, input().split()))\n",
    "S = [0] * n\n",
    "C = [0] * m\n",
    "S[0] = A[0]\n",
    "answer = 0\n",
    "\n",
    "for i in range(1,n):\n",
    "    S[i] = S[i-1] + A[i]   # 합 배열 저장\n",
    "\n",
    "for i in range(n):\n",
    "    remainder = S[i] % m   # 합 배열의 모든 값에 % 연산 수행\n",
    "    if remainder == 0:     # 0~i 까지의 구간 합 자체가 0일 때 정답에 더하기\n",
    "       answer += 1\n",
    "    C[remainder] += 1      # 나머지가 같은 인덱스의 개수 값 증가시키기\n",
    "\n",
    "for i in range(m):\n",
    "    #나머지가 같은 인덱스 중 2개를 뽑는 경우의 수를 더하기\n",
    "    if C[i] > 1:\n",
    "       answer += (C[i] * (C[i] - 1) // 2)\n",
    "\n",
    "print(answer)"
   ]
  }
 ],
 "metadata": {
  "kernelspec": {
   "display_name": "Python 3",
   "language": "python",
   "name": "python3"
  },
  "language_info": {
   "codemirror_mode": {
    "name": "ipython",
    "version": 3
   },
   "file_extension": ".py",
   "mimetype": "text/x-python",
   "name": "python",
   "nbconvert_exporter": "python",
   "pygments_lexer": "ipython3",
   "version": "3.12.0"
  }
 },
 "nbformat": 4,
 "nbformat_minor": 2
}
