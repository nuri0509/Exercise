{
 "cells": [
  {
   "cell_type": "code",
   "execution_count": 1,
   "metadata": {},
   "outputs": [],
   "source": [
    "# 데이터 불러오기\n",
    "from sklearn import datasets\n",
    "raw_wine = datasets.load_wine()"
   ]
  },
  {
   "cell_type": "code",
   "execution_count": 2,
   "metadata": {},
   "outputs": [],
   "source": [
    "# 피처/타깃 데이터 지정\n",
    "X = raw_wine.data\n",
    "y = raw_wine.target"
   ]
  },
  {
   "cell_type": "code",
   "execution_count": 3,
   "metadata": {},
   "outputs": [],
   "source": [
    "# 트레이닝/테스트 데이터 분할\n",
    "from sklearn.model_selection import train_test_split\n",
    "X_tn, X_te, y_tn, y_te = train_test_split(X,y,random_state=1)"
   ]
  },
  {
   "cell_type": "code",
   "execution_count": 4,
   "metadata": {},
   "outputs": [],
   "source": [
    "#데이터 표준화\n",
    "from sklearn.preprocessing import StandardScaler\n",
    "std_scale = StandardScaler()\n",
    "std_scale.fit(X_tn)\n",
    "X_tn_std = std_scale.transform(X_tn)\n",
    "X_te_std = std_scale.transform(X_te)"
   ]
  },
  {
   "cell_type": "code",
   "execution_count": 5,
   "metadata": {},
   "outputs": [],
   "source": [
    "# 커널 pca를 통한 데이터 차원 축소\n",
    "from sklearn.decomposition import KernelPCA\n",
    "k_pca = KernelPCA(n_components=2, kernel='poly')\n",
    "k_pca.fit(X_tn_std)\n",
    "X_tn_kpca = k_pca.transform(X_tn_std)\n",
    "X_te_kpca = k_pca.transform(X_te_std)"
   ]
  },
  {
   "cell_type": "code",
   "execution_count": 6,
   "metadata": {},
   "outputs": [
    {
     "name": "stdout",
     "output_type": "stream",
     "text": [
      "(133, 13)\n",
      "(133, 2)\n"
     ]
    }
   ],
   "source": [
    "# 차원 축소 전후 데이터 차원 비교\n",
    "print(X_tn_std.shape)\n",
    "print(X_tn_kpca.shape)"
   ]
  },
  {
   "cell_type": "code",
   "execution_count": 14,
   "metadata": {},
   "outputs": [
    {
     "data": {
      "text/html": [
       "<div>\n",
       "<style scoped>\n",
       "    .dataframe tbody tr th:only-of-type {\n",
       "        vertical-align: middle;\n",
       "    }\n",
       "\n",
       "    .dataframe tbody tr th {\n",
       "        vertical-align: top;\n",
       "    }\n",
       "\n",
       "    .dataframe thead th {\n",
       "        text-align: right;\n",
       "    }\n",
       "</style>\n",
       "<table border=\"1\" class=\"dataframe\">\n",
       "  <thead>\n",
       "    <tr style=\"text-align: right;\">\n",
       "      <th></th>\n",
       "      <th>kpca_comp1</th>\n",
       "      <th>kpca_comp2</th>\n",
       "      <th>target</th>\n",
       "    </tr>\n",
       "  </thead>\n",
       "  <tbody>\n",
       "    <tr>\n",
       "      <th>0</th>\n",
       "      <td>1.011805</td>\n",
       "      <td>0.049569</td>\n",
       "      <td>0</td>\n",
       "    </tr>\n",
       "    <tr>\n",
       "      <th>1</th>\n",
       "      <td>0.654061</td>\n",
       "      <td>-0.436790</td>\n",
       "      <td>1</td>\n",
       "    </tr>\n",
       "    <tr>\n",
       "      <th>2</th>\n",
       "      <td>1.211219</td>\n",
       "      <td>0.761903</td>\n",
       "      <td>0</td>\n",
       "    </tr>\n",
       "    <tr>\n",
       "      <th>3</th>\n",
       "      <td>2.784498</td>\n",
       "      <td>2.373693</td>\n",
       "      <td>0</td>\n",
       "    </tr>\n",
       "    <tr>\n",
       "      <th>4</th>\n",
       "      <td>2.027196</td>\n",
       "      <td>1.386201</td>\n",
       "      <td>0</td>\n",
       "    </tr>\n",
       "  </tbody>\n",
       "</table>\n",
       "</div>"
      ],
      "text/plain": [
       "   kpca_comp1  kpca_comp2  target\n",
       "0    1.011805    0.049569       0\n",
       "1    0.654061   -0.436790       1\n",
       "2    1.211219    0.761903       0\n",
       "3    2.784498    2.373693       0\n",
       "4    2.027196    1.386201       0"
      ]
     },
     "execution_count": 14,
     "metadata": {},
     "output_type": "execute_result"
    }
   ],
   "source": [
    "# 커널 pca이후 데이터 셋\n",
    "import pandas as pdkpca_com\n",
    "k_pca_columns = ['kpca_comp1','kpca_comp2']\n",
    "X_tn_kpca_df = pd.DataFrame(X_tn_kpca,\n",
    "                            columns=k_pca_columns)\n",
    "X_tn_kpca_df['target'] = y_tn\n",
    "X_tn_kpca_df.head(5)"
   ]
  },
  {
   "cell_type": "code",
   "execution_count": 16,
   "metadata": {},
   "outputs": [
    {
     "data": {
      "image/png": "[encoded data removed]",
      "text/plain": [
       "<Figure size 640x480 with 1 Axes>"
      ]
     },
     "metadata": {},
     "output_type": "display_data"
    }
   ],
   "source": [
    "# 커널 pca 적용  데이터 시각화\n",
    "import matplotlib.pyplot as plt\n",
    "df = X_tn_kpca_df\n",
    "markers = ['o','x','^']\n",
    "\n",
    "for i, mark in enumerate(markers):\n",
    "    X_i = df[df['target'] == i]\n",
    "    target_i = raw_wine.target_names[i]\n",
    "    X1 = X_i['kpca_comp1']\n",
    "    X2 = X_i['kpca_comp2']\n",
    "    plt.scatter(X1,X2,\n",
    "                marker=mark,\n",
    "                label=target_i)\n",
    "plt.xlabel('kernel_pca_component1')\n",
    "plt.ylabel('kernel_pca_component2')\n",
    "plt.legend()\n",
    "plt.show()"
   ]
  },
  {
   "cell_type": "code",
   "execution_count": 17,
   "metadata": {},
   "outputs": [],
   "source": [
    "# 데이터 학습 및 예측(랜덤 포레스트)\n",
    "from sklearn.ensemble import RandomForestClassifier\n",
    "clf_rf_kpca = RandomForestClassifier(max_depth=2,\n",
    "                                     random_state=0)\n",
    "clf_rf_kpca.fit(X_tn_kpca, y_tn)\n",
    "pred_rf_kpca = clf_rf_kpca.predict(X_te_kpca)"
   ]
  },
  {
   "cell_type": "code",
   "execution_count": 18,
   "metadata": {},
   "outputs": [
    {
     "name": "stdout",
     "output_type": "stream",
     "text": [
      "0.9555555555555556\n"
     ]
    }
   ],
   "source": [
    "# 정확도 평가\n",
    "from sklearn.metrics import accuracy_score\n",
    "accuracy_kpca = accuracy_score(y_te, pred_rf_kpca)\n",
    "print(accuracy_kpca)"
   ]
  }
 ],
 "metadata": {
  "kernelspec": {
   "display_name": "base",
   "language": "python",
   "name": "python3"
  },
  "language_info": {
   "codemirror_mode": {
    "name": "ipython",
    "version": 3
   },
   "file_extension": ".py",
   "mimetype": "text/x-python",
   "name": "python",
   "nbconvert_exporter": "python",
   "pygments_lexer": "ipython3",
   "version": "3.11.4"
  }
 },
 "nbformat": 4,
 "nbformat_minor": 2
}
