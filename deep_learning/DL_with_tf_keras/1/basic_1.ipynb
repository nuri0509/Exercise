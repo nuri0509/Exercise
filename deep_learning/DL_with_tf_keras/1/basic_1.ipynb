{
 "cells": [
  {
   "cell_type": "code",
   "execution_count": 1,
   "metadata": {},
   "outputs": [],
   "source": [
    "# 스칼라(scalar)\n",
    "\n",
    "# 스칼라는 정수나 실수와 같은 상수를 나타낸다고 이해하면 쉽다. \n",
    "# 양을 나타내지만,방향성을 갖지는 않는다. 따라서, 벡터가 존재하지 않기때문에 차수가 0이된다.\n",
    "# 텐서플로에서는 '랭크(rank)-0' 텐서라고 부른다. 랭크는 텐서의 차수를 나타낸다.\n",
    "# 스칼라는 벡터가 없는 0차원으로 표현되므로 랭크-0텐서라고 정의한다.\n",
    "# 스칼라 텐서는 constant함수에 상수값을 입력해 만들수있다\n",
    "# 여기서 배열의 크기를 나타낸는 shape=() 값을 보면,\n",
    "# 배열을 나타내는 값이 존재하지않기 때문에,0차원이라고 보면 된다."
   ]
  },
  {
   "cell_type": "code",
   "execution_count": 2,
   "metadata": {},
   "outputs": [
    {
     "name": "stdout",
     "output_type": "stream",
     "text": [
      "a: tf.Tensor(1, shape=(), dtype=int32)\n",
      "b: tf.Tensor(2, shape=(), dtype=int32)\n"
     ]
    }
   ],
   "source": [
    "import tensorflow as tf\n",
    "\n",
    "a = tf.constant(1)\n",
    "b = tf.constant(2)\n",
    "print('a:', a)\n",
    "print('b:', b)"
   ]
  },
  {
   "cell_type": "code",
   "execution_count": 3,
   "metadata": {},
   "outputs": [
    {
     "name": "stdout",
     "output_type": "stream",
     "text": [
      "<dtype: 'float32'>\n",
      "<dtype: 'float32'>\n"
     ]
    }
   ],
   "source": [
    "# cast() 함수 - 텐서의 자료형을 변환하고 싶을때 사용한다.\n",
    "###텐서플로 딥러닝연산에서는 float32를 기본 숫자형 데이터 형식로 사용된다.\n",
    "\n",
    "a = tf.cast(a, tf.float32)\n",
    "b = tf.cast(b, tf.float32)\n",
    "\n",
    "print(a.dtype)\n",
    "print(b.dtype)"
   ]
  },
  {
   "cell_type": "code",
   "execution_count": 4,
   "metadata": {},
   "outputs": [
    {
     "name": "stdout",
     "output_type": "stream",
     "text": [
      "result: tf.Tensor(3.0, shape=(), dtype=float32)\n",
      "rank: tf.Tensor(0, shape=(), dtype=int32)\n"
     ]
    }
   ],
   "source": [
    "# math 모듈 - 여러가지 수학함수 정의\n",
    "\n",
    "# 덧셈(add)\n",
    "c = tf.math.add(a, b)\n",
    "print('result:', c)\n",
    "print('rank:', tf.rank(c))"
   ]
  },
  {
   "cell_type": "code",
   "execution_count": 5,
   "metadata": {},
   "outputs": [
    {
     "name": "stdout",
     "output_type": "stream",
     "text": [
      "tf.Tensor(-1.0, shape=(), dtype=float32)\n"
     ]
    }
   ],
   "source": [
    "# 뺄셈(subtract)\n",
    "print(tf.math.subtract(a,b))"
   ]
  },
  {
   "cell_type": "code",
   "execution_count": 6,
   "metadata": {},
   "outputs": [
    {
     "name": "stdout",
     "output_type": "stream",
     "text": [
      "tf.Tensor(2.0, shape=(), dtype=float32)\n"
     ]
    }
   ],
   "source": [
    "# 곱셈(multiply)\n",
    "print(tf.math.multiply(a,b))"
   ]
  },
  {
   "cell_type": "code",
   "execution_count": 7,
   "metadata": {},
   "outputs": [
    {
     "name": "stdout",
     "output_type": "stream",
     "text": [
      "tf.Tensor(0.5, shape=(), dtype=float32)\n"
     ]
    }
   ],
   "source": [
    "# 나눗셈(divide)\n",
    "print(tf.math.divide(a,b))"
   ]
  },
  {
   "cell_type": "code",
   "execution_count": 9,
   "metadata": {},
   "outputs": [
    {
     "name": "stdout",
     "output_type": "stream",
     "text": [
      "tf.Tensor(1.0, shape=(), dtype=float32)\n",
      "tf.Tensor(0.0, shape=(), dtype=float32)\n"
     ]
    }
   ],
   "source": [
    "# 나눗셈(나머지)(mod)\n",
    "print(tf.math.mod(a,b))\n",
    "# 나눗셈(몫)(floordiv)\n",
    "print(tf.math.floordiv(a,b))"
   ]
  },
  {
   "cell_type": "code",
   "execution_count": null,
   "metadata": {},
   "outputs": [],
   "source": []
  },
  {
   "cell_type": "code",
   "execution_count": null,
   "metadata": {},
   "outputs": [],
   "source": [
    "# 벡터(vector)\n",
    "\n",
    "# 벡터는 여러 개의 스칼라 값을 원소로 갖는 1차원 배열로 표현된다. 스칼라 여러개가 동일한 축 방향으로 나열되는 개념이다.\n",
    "# 벡터는 원소로 구성되는 여러개의 값들이 모여서 하나의 대표성을 갖는 값이 된다.\n",
    "# 좌표계 공간으로 표현하면 어떤방향으로 크기를 갖는다.\n",
    "# 따라서 각 원소값의 크기뿐만 아니라, 원소들이 나열되는 순서에도 의미가 있다.\n",
    "# 원소가 되는 10,20,30은 각각 스칼라이고 이들이 모여서 1차원 텐서인 벡터가 된다\n",
    "# 벡터는 하나의 축을 갖기 떄문에 차수가 1이고, 랭크-1 텐서라고 부른다\n",
    "# constant함수에 1차원 배열을 입력하면 1차원 텐서인 벡터로 변환된다.\n",
    "# 함수의 입력값으로 파이썬 list와 numpy array를 모두 사용할수있다.\n",
    "# 벡터의 shape속성은 ( 원소개수,  ) 형태로 표현된다."
   ]
  },
  {
   "cell_type": "code",
   "execution_count": 10,
   "metadata": {},
   "outputs": [
    {
     "name": "stdout",
     "output_type": "stream",
     "text": [
      "vec1: tf.Tensor([10. 20. 30.], shape=(3,), dtype=float32)\n",
      "vec2: tf.Tensor([10. 10. 10.], shape=(3,), dtype=float32)\n"
     ]
    }
   ],
   "source": [
    "import tensorflow as tf\n",
    "import numpy as np\n",
    "\n",
    "py_list = [10., 20., 30.]\n",
    "num_arr = np.array([10.,10.,10])\n",
    "\n",
    "vec1 = tf.constant(py_list, dtype=tf.float32)\n",
    "vec2 = tf.constant(num_arr, dtype=tf.float32)\n",
    "\n",
    "print('vec1:', vec1)\n",
    "print('vec2:', vec2)"
   ]
  },
  {
   "cell_type": "code",
   "execution_count": 11,
   "metadata": {},
   "outputs": [
    {
     "name": "stdout",
     "output_type": "stream",
     "text": [
      "tf.Tensor(1, shape=(), dtype=int32)\n",
      "tf.Tensor(1, shape=(), dtype=int32)\n"
     ]
    }
   ],
   "source": [
    "print(tf.rank(vec1))\n",
    "print(tf.rank(vec2))"
   ]
  },
  {
   "cell_type": "code",
   "execution_count": null,
   "metadata": {},
   "outputs": [
    {
     "name": "stdout",
     "output_type": "stream",
     "text": [
      "result: tf.Tensor([20. 30. 40.], shape=(3,), dtype=float32)\n",
      "rank: tf.Tensor(1, shape=(), dtype=int32)\n"
     ]
    }
   ],
   "source": [
    "# tf.math 모듈의 add함수로 덧셈연산처리 \n",
    "# =>이때 같은 위치에 있는 원소들끼리(element-by-element) 짝을 이루어서 계산한다.\n",
    "\n",
    "add1 = tf.math.add(vec1,vec2)\n",
    "print('result:', add1)\n",
    "print('rank:', tf.rank(add1))"
   ]
  },
  {
   "cell_type": "code",
   "execution_count": null,
   "metadata": {},
   "outputs": [
    {
     "name": "stdout",
     "output_type": "stream",
     "text": [
      "tf.Tensor(60.0, shape=(), dtype=float32)\n",
      "tf.Tensor(30.0, shape=(), dtype=float32)\n"
     ]
    }
   ],
   "source": [
    "# 벡터를 구성하는 원소들의 합계 구하기 - reduce_sum 함수\n",
    "\n",
    "print(tf.reduce_sum(vec1))\n",
    "print(tf.reduce_sum(vec2))"
   ]
  },
  {
   "cell_type": "code",
   "execution_count": 14,
   "metadata": {},
   "outputs": [
    {
     "name": "stdout",
     "output_type": "stream",
     "text": [
      "tf.Tensor([100. 400. 900.], shape=(3,), dtype=float32)\n"
     ]
    }
   ],
   "source": [
    "# 거듭제곱 -math 모듈의 square 함수\n",
    "# =>각 원소를 거듭제곱한 결과를 벡터로 반환.\n",
    "\n",
    "print(tf.math.square(vec1))"
   ]
  },
  {
   "cell_type": "code",
   "execution_count": null,
   "metadata": {},
   "outputs": [],
   "source": []
  },
  {
   "cell_type": "code",
   "execution_count": null,
   "metadata": {},
   "outputs": [],
   "source": [
    "# 행렬(matrix)\n",
    "\n",
    "# 행렬은 차수가 1이니 벡터를 같은 축 방향으로 나열하는 개념이다. 여러개의 1차원 벡터를 원소로 갖는 1차원 배열이다.\n",
    "# 원소의 차수가 1이므로 총 차수는 2이다. 텐서플로에서는 '랭크-2'텐서라고 부른다.\n",
    "# 리스트를 원소로 갖는 리스트를 사용하여 입력값으로 전달한다. => [[10,20],[30,40]]\n"
   ]
  },
  {
   "cell_type": "code",
   "execution_count": 15,
   "metadata": {},
   "outputs": [
    {
     "name": "stdout",
     "output_type": "stream",
     "text": [
      "rank: tf.Tensor(2, shape=(), dtype=int32)\n",
      "mat: tf.Tensor(\n",
      "[[10 20]\n",
      " [30 40]], shape=(2, 2), dtype=int32)\n"
     ]
    }
   ],
   "source": [
    "import tensorflow as tf\n",
    "\n",
    "list_of_list = [[10,20],[30,40]]\n",
    "\n",
    "mat1 = tf.constant(list_of_list)\n",
    "\n",
    "print('rank:', tf.rank(mat1))\n",
    "print('mat:', mat1)"
   ]
  },
  {
   "cell_type": "code",
   "execution_count": 16,
   "metadata": {},
   "outputs": [
    {
     "name": "stdout",
     "output_type": "stream",
     "text": [
      "rank: tf.Tensor(2, shape=(), dtype=int32)\n",
      "mat2: tf.Tensor(\n",
      "[[ 1  0]\n",
      " [-1  2]], shape=(2, 2), dtype=int32)\n"
     ]
    }
   ],
   "source": [
    "# stack 함수를 사용하여 행렬 만들기\n",
    "vec1 = tf.constant([1,0])\n",
    "vec2 = tf.constant([-1,2])\n",
    "\n",
    "mat2 = tf.stack([vec1,vec2])\n",
    "\n",
    "print('rank:', tf.rank(mat2))\n",
    "\n",
    "print('mat2:',mat2)"
   ]
  },
  {
   "cell_type": "code",
   "execution_count": 17,
   "metadata": {},
   "outputs": [
    {
     "name": "stdout",
     "output_type": "stream",
     "text": [
      "result: tf.Tensor(\n",
      "[[ 10   0]\n",
      " [-30  80]], shape=(2, 2), dtype=int32)\n",
      "rank: tf.Tensor(2, shape=(), dtype=int32)\n",
      "result: tf.Tensor(\n",
      "[[ 30  60]\n",
      " [ 90 120]], shape=(2, 2), dtype=int32)\n",
      "rank: tf.Tensor(2, shape=(), dtype=int32)\n"
     ]
    }
   ],
   "source": [
    "# element-by-element연산과 행렬곱연산\n",
    "\n",
    "element_mul = tf.math.multiply(mat1,mat2)\n",
    "print('result:', element_mul)\n",
    "print('rank:', tf.rank(element_mul))\n",
    "\n",
    "element_bc = tf.math.multiply(mat1, 3)\n",
    "print('result:', element_bc)\n",
    "print('rank:', tf.rank(element_bc))"
   ]
  },
  {
   "cell_type": "code",
   "execution_count": 18,
   "metadata": {},
   "outputs": [
    {
     "name": "stdout",
     "output_type": "stream",
     "text": [
      "result: tf.Tensor(\n",
      "[[-10  40]\n",
      " [-10  80]], shape=(2, 2), dtype=int32)\n",
      "rank: tf.Tensor(2, shape=(), dtype=int32)\n"
     ]
    }
   ],
   "source": [
    "mat_mul = tf.matmul(mat1,mat2)\n",
    "print('result:', mat_mul)\n",
    "print('rank:', tf.rank(mat_mul))"
   ]
  },
  {
   "cell_type": "code",
   "execution_count": 19,
   "metadata": {},
   "outputs": [
    {
     "name": "stdout",
     "output_type": "stream",
     "text": [
      "<class 'numpy.ndarray'>\n",
      "[[-10  40]\n",
      " [-10  80]]\n"
     ]
    }
   ],
   "source": [
    "# 텐서를 넘파이배열로 변환\n",
    "np_arr = mat_mul.numpy()\n",
    "print(type(np_arr))\n",
    "print(np_arr)"
   ]
  },
  {
   "cell_type": "code",
   "execution_count": null,
   "metadata": {},
   "outputs": [],
   "source": []
  },
  {
   "cell_type": "code",
   "execution_count": 21,
   "metadata": {},
   "outputs": [
    {
     "name": "stdout",
     "output_type": "stream",
     "text": [
      "rank: tf.Tensor(3, shape=(), dtype=int32)\n",
      "tensor1: tf.Tensor(\n",
      "[[[ 1  2  3  4]\n",
      "  [ 5  6  7  8]]\n",
      "\n",
      " [[ 9 10 11 12]\n",
      "  [13 14 15 16]]\n",
      "\n",
      " [[17 18 19 20]\n",
      "  [21 22 23 24]]], shape=(3, 2, 4), dtype=int32)\n"
     ]
    }
   ],
   "source": [
    "# 고차원 텐서(tensor)\n",
    "\n",
    "import tensorflow as tf\n",
    "import numpy as np\n",
    "\n",
    "mat1 = [[1,2,3,4],\n",
    "        [5,6,7,8]]\n",
    "\n",
    "mat2 = [[9,10,11,12],\n",
    "        [13,14,15,16]]\n",
    "\n",
    "mat3 = [[17,18,19,20],\n",
    "        [21,22,23,24]]\n",
    "\n",
    "tensor1 = tf.constant([mat1,mat2,mat3])\n",
    "print('rank:', tf.rank(tensor1))\n",
    "print('tensor1:', tensor1)"
   ]
  },
  {
   "cell_type": "code",
   "execution_count": 24,
   "metadata": {},
   "outputs": [
    {
     "name": "stdout",
     "output_type": "stream",
     "text": [
      "rank: tf.Tensor(3, shape=(), dtype=int32)\n",
      "tesnsor2: tf.Tensor(\n",
      "[[[ 1  2  3  4]\n",
      "  [ 5  6  7  8]]\n",
      "\n",
      " [[ 9 10 11 12]\n",
      "  [13 14 15 16]]\n",
      "\n",
      " [[17 18 19 20]\n",
      "  [21 22 23 24]]], shape=(3, 2, 4), dtype=int32)\n"
     ]
    }
   ],
   "source": [
    "tensor2 = tf.stack([mat1,mat2,mat3])\n",
    "\n",
    "print('rank:', tf.rank(tensor2))\n",
    "print('tesnsor2:',tensor2)"
   ]
  },
  {
   "cell_type": "code",
   "execution_count": 25,
   "metadata": {},
   "outputs": [
    {
     "name": "stdout",
     "output_type": "stream",
     "text": [
      "rank: tf.Tensor(3, shape=(), dtype=int32)\n",
      "tensor3: tf.Tensor(\n",
      "[[[ 1  2  3  4]\n",
      "  [ 5  6  7  8]]\n",
      "\n",
      " [[ 9 10 11 12]\n",
      "  [13 14 15 16]]\n",
      "\n",
      " [[17 18 19 20]\n",
      "  [21 22 23 24]]], shape=(3, 2, 4), dtype=int32)\n"
     ]
    }
   ],
   "source": [
    "vec1 = [1,2,3,4]\n",
    "vec2 = [5,6,7,8]\n",
    "vec3 = [9,10,11,12]\n",
    "vec4 = [13,14,15,16]\n",
    "vec5 = [17,18,19,20]\n",
    "vec6 = [21,22,23,24]\n",
    "\n",
    "arr = [[vec1,vec2],\n",
    "       [vec3,vec4],\n",
    "       [vec5,vec6]]\n",
    "\n",
    "tensor3 = tf.constant(arr)\n",
    "\n",
    "print('rank:', tf.rank(tensor3))\n",
    "print('tensor3:',tensor3)"
   ]
  },
  {
   "cell_type": "code",
   "execution_count": 27,
   "metadata": {},
   "outputs": [
    {
     "name": "stdout",
     "output_type": "stream",
     "text": [
      "rank: tf.Tensor(4, shape=(), dtype=int32)\n",
      "tesnor: tf.Tensor(\n",
      "[[[[ 1  2  3  4]\n",
      "   [ 5  6  7  8]]\n",
      "\n",
      "  [[ 9 10 11 12]\n",
      "   [13 14 15 16]]\n",
      "\n",
      "  [[17 18 19 20]\n",
      "   [21 22 23 24]]]\n",
      "\n",
      "\n",
      " [[[ 1  2  3  4]\n",
      "   [ 5  6  7  8]]\n",
      "\n",
      "  [[ 9 10 11 12]\n",
      "   [13 14 15 16]]\n",
      "\n",
      "  [[17 18 19 20]\n",
      "   [21 22 23 24]]]], shape=(2, 3, 2, 4), dtype=int32)\n"
     ]
    }
   ],
   "source": [
    "tensor4 = tf.stack([tensor1, tensor2])\n",
    "\n",
    "print('rank:', tf.rank(tensor4))\n",
    "print('tesnor:', tensor4)"
   ]
  },
  {
   "cell_type": "code",
   "execution_count": null,
   "metadata": {},
   "outputs": [],
   "source": []
  },
  {
   "cell_type": "code",
   "execution_count": null,
   "metadata": {},
   "outputs": [],
   "source": []
  },
  {
   "cell_type": "code",
   "execution_count": null,
   "metadata": {},
   "outputs": [],
   "source": []
  },
  {
   "cell_type": "code",
   "execution_count": null,
   "metadata": {},
   "outputs": [],
   "source": []
  }
 ],
 "metadata": {
  "kernelspec": {
   "display_name": "base",
   "language": "python",
   "name": "python3"
  },
  "language_info": {
   "codemirror_mode": {
    "name": "ipython",
    "version": 3
   },
   "file_extension": ".py",
   "mimetype": "text/x-python",
   "name": "python",
   "nbconvert_exporter": "python",
   "pygments_lexer": "ipython3",
   "version": "3.12.7"
  }
 },
 "nbformat": 4,
 "nbformat_minor": 2
}
