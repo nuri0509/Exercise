{
 "cells": [
  {
   "cell_type": "code",
   "execution_count": null,
   "metadata": {},
   "outputs": [],
   "source": [
    "# 변수(tf.Variable)\n",
    "# 텐서플로를 활용하여 딥러닝 모델을 만들고 학습할때, 텐서플로 변수를 놓고 활용하면 정교하게 연산을 제어할수있다.\n",
    "# 특히 딥러닝 모델의 가중치와 학습률 처럼 모델학습 및 추론과정에서 값이 면경되는경우 변수를 활용한다.\n",
    "\n",
    "# 텐서플로는 그래프구조를 이용하여 복잡한 미분연산을 한다. \n",
    "# 이때 수많은 미분연산을 반복하게 되는데, 각각의 중간 연산결과를 저장할때 변수를 이용한다. \n",
    "# 모델을 학습하는 중간단계마다 모델의 가중치 행렬을 변수에 저장하고, 계산을 반복하면서 변수의 값을 업데이트한다.\n",
    "\n",
    "# 또한, 최적화 알고리즘을 적용할 때, 모델의 학습률을 저장하는데에도 사용된다.\n",
    "# 최적화란 모델에 적용되는 학습률을 조금씩 바꾸면서 최적의 결과를 찾는 과정을 말한다.\n",
    "# 이때 변수는 변화하는 학습률값을 저장하게된다.\n"
   ]
  },
  {
   "cell_type": "code",
   "execution_count": 3,
   "metadata": {},
   "outputs": [
    {
     "name": "stdout",
     "output_type": "stream",
     "text": [
      "tf.Tensor(\n",
      "[[0 1 2]\n",
      " [3 4 5]], shape=(2, 3), dtype=int32)\n"
     ]
    }
   ],
   "source": [
    "import tensorflow as tf\n",
    "import numpy as np\n",
    "\n",
    "tensor1 = tf.constant([[0,1,2],\n",
    "                       [3,4,5]])\n",
    "\n",
    "print(tensor1)"
   ]
  },
  {
   "cell_type": "code",
   "execution_count": 4,
   "metadata": {},
   "outputs": [
    {
     "name": "stdout",
     "output_type": "stream",
     "text": [
      "<tf.Variable 'Variable:0' shape=(2, 3) dtype=int32, numpy=\n",
      "array([[0, 1, 2],\n",
      "       [3, 4, 5]])>\n"
     ]
    }
   ],
   "source": [
    "tensor_var1 = tf.Variable(tensor1)\n",
    "print(tensor_var1)"
   ]
  },
  {
   "cell_type": "code",
   "execution_count": 5,
   "metadata": {},
   "outputs": [
    {
     "name": "stdout",
     "output_type": "stream",
     "text": [
      "이름: Variable:0\n",
      "크기: (2, 3)\n",
      "자료형: <dtype: 'int32'>\n",
      "배열: [[0 1 2]\n",
      " [3 4 5]]\n"
     ]
    }
   ],
   "source": [
    "print('이름:',tensor_var1.name)\n",
    "print('크기:',tensor_var1.shape)\n",
    "print('자료형:',tensor_var1.dtype)\n",
    "print('배열:', tensor_var1.numpy())"
   ]
  },
  {
   "cell_type": "code",
   "execution_count": 6,
   "metadata": {},
   "outputs": [
    {
     "name": "stdout",
     "output_type": "stream",
     "text": [
      "<tf.Variable 'Variable:0' shape=(2, 3) dtype=int32, numpy=\n",
      "array([[1, 1, 1],\n",
      "       [2, 2, 2]])>\n"
     ]
    }
   ],
   "source": [
    "tensor_var1.assign([[1,1,1],[2,2,2]])\n",
    "\n",
    "print(tensor_var1)"
   ]
  },
  {
   "cell_type": "code",
   "execution_count": 7,
   "metadata": {},
   "outputs": [
    {
     "name": "stdout",
     "output_type": "stream",
     "text": [
      "tf.Tensor(\n",
      "[[1 1 1]\n",
      " [2 2 2]], shape=(2, 3), dtype=int32)\n"
     ]
    }
   ],
   "source": [
    "tensor2 = tf.convert_to_tensor(tensor_var1)\n",
    "print(tensor2)"
   ]
  },
  {
   "cell_type": "code",
   "execution_count": 8,
   "metadata": {},
   "outputs": [
    {
     "name": "stdout",
     "output_type": "stream",
     "text": [
      "New Name:0\n"
     ]
    }
   ],
   "source": [
    "tensor_var2 = tf.Variable(tensor2, name='New Name')\n",
    "print(tensor_var2.name)"
   ]
  },
  {
   "cell_type": "code",
   "execution_count": 9,
   "metadata": {},
   "outputs": [
    {
     "data": {
      "text/plain": [
       "<tf.Tensor: shape=(2, 3), dtype=int32, numpy=\n",
       "array([[2, 2, 2],\n",
       "       [4, 4, 4]])>"
      ]
     },
     "execution_count": 9,
     "metadata": {},
     "output_type": "execute_result"
    }
   ],
   "source": [
    "tensor_var1 + tensor_var2"
   ]
  },
  {
   "cell_type": "code",
   "execution_count": null,
   "metadata": {},
   "outputs": [],
   "source": [
    "# 자동 미분(Automatic Differentiation)\n",
    "\n",
    "# 텐서플로는 딥러닝 모델을 구성하는 복잡하는 인공신경망의 각 노드에서 계산되는 미분을 자동으로 계산해준다\n",
    "# 특히 각 변수의 기울기에 해당하는 그래디언트를 계산하는데 특화되어있다."
   ]
  },
  {
   "cell_type": "code",
   "execution_count": 11,
   "metadata": {},
   "outputs": [
    {
     "name": "stdout",
     "output_type": "stream",
     "text": [
      "X: [-0.20943771  1.2746525   1.213214   -0.17576952  1.876984    0.16379918\n",
      "  1.082245    0.6199966  -0.44402212  1.3048344 ]\n",
      "Y: [-2.628313    1.8239574   1.6396422  -2.5273085   3.630952   -1.5086024\n",
      "  1.2467351  -0.14001012 -3.3320663   1.9145031 ]\n"
     ]
    }
   ],
   "source": [
    "import tensorflow as tf\n",
    "g = tf.random.Generator.from_seed(2020)\n",
    "X = g.normal(shape=(10, ))\n",
    "Y = 3*X - 2\n",
    "\n",
    "print('X:', X.numpy())\n",
    "print('Y:', Y.numpy())"
   ]
  },
  {
   "cell_type": "code",
   "execution_count": 12,
   "metadata": {},
   "outputs": [],
   "source": [
    "# Loss 함수 정의\n",
    "def cal_mse(X, Y, a, b):\n",
    "\n",
    "    Y_pred = a*X + b\n",
    "    squared_error = (Y_pred - Y) ** 2\n",
    "    mean_squared_error = tf.reduce_mean(squared_error)\n",
    "\n",
    "    return mean_squared_error"
   ]
  },
  {
   "cell_type": "code",
   "execution_count": 13,
   "metadata": {},
   "outputs": [
    {
     "name": "stdout",
     "output_type": "stream",
     "text": [
      "EPOCH 20 - MSE: 1.141489 ---a:1.74 ---b:-0.75\n",
      "EPOCH 40 - MSE: 0.288145 ---a:2.37 ---b:-1.37\n",
      "EPOCH 60 - MSE: 0.072789 ---a:2.69 ---b:-1.68\n",
      "EPOCH 80 - MSE: 0.018387 ---a:2.84 ---b:-1.84\n",
      "EPOCH 100 - MSE: 0.004645 ---a:2.92 ---b:-1.92\n",
      "EPOCH 120 - MSE: 0.001173 ---a:2.96 ---b:-1.96\n",
      "EPOCH 140 - MSE: 0.000296 ---a:2.98 ---b:-1.98\n",
      "EPOCH 160 - MSE: 0.000075 ---a:2.99 ---b:-1.99\n",
      "EPOCH 180 - MSE: 0.000019 ---a:2.99 ---b:-1.99\n",
      "EPOCH 200 - MSE: 0.000005 ---a:3.00 ---b:-2.00\n"
     ]
    }
   ],
   "source": [
    "# tf.GradientTape로 자동 미분 과정을 기록\n",
    "\n",
    "a = tf.Variable(0.0)\n",
    "b = tf.Variable(0.0)\n",
    "\n",
    "EPOCHS = 200\n",
    "\n",
    "for epoch in range(1, EPOCHS+1) :\n",
    "    with tf.GradientTape() as tape :\n",
    "        mse = cal_mse(X, Y, a, b)\n",
    "\n",
    "    grad = tape.gradient(mse,{'a':a,'b':b})\n",
    "    d_a, d_b = grad['a'], grad['b']\n",
    "\n",
    "    a.assign_sub(d_a * 0.05) \n",
    "    b.assign_sub(d_b * 0.05)\n",
    "\n",
    "    if epoch % 20 == 0 :\n",
    "        print(\"EPOCH %d - MSE: %4f ---a:%.2f ---b:%.2f\" %(epoch, mse, a, b))"
   ]
  },
  {
   "cell_type": "code",
   "execution_count": null,
   "metadata": {},
   "outputs": [],
   "source": []
  },
  {
   "cell_type": "code",
   "execution_count": null,
   "metadata": {},
   "outputs": [],
   "source": []
  }
 ],
 "metadata": {
  "kernelspec": {
   "display_name": "base",
   "language": "python",
   "name": "python3"
  },
  "language_info": {
   "codemirror_mode": {
    "name": "ipython",
    "version": 3
   },
   "file_extension": ".py",
   "mimetype": "text/x-python",
   "name": "python",
   "nbconvert_exporter": "python",
   "pygments_lexer": "ipython3",
   "version": "3.12.7"
  }
 },
 "nbformat": 4,
 "nbformat_minor": 2
}
