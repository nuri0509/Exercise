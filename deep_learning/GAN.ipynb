{
 "cells": [
  {
   "cell_type": "code",
   "execution_count": null,
   "metadata": {},
   "outputs": [],
   "source": [
    "import numpy as np"
   ]
  },
  {
   "cell_type": "code",
   "execution_count": null,
   "metadata": {},
   "outputs": [],
   "source": [
    "# 생성자의 출력층 GenOutLayer 클래스 \n",
    "class GenOutLayer(BaseLayer):\n",
    "    def __init__(self, n_upper, n):\n",
    "        self.w = np.random.randn(n_upper, n) / np.sqrt(n_upper)\n",
    "        self.b = np.zeros(n)\n",
    "\n",
    "    def forward(self, x):\n",
    "        self.x = x\n",
    "        u = np.dot(x, self.w) + self.b\n",
    "        self.y = np.tanh(u)\n",
    "\n",
    "    def backward(self, grad_y):\n",
    "        delta = grad_y * (1 - self.y**2)\n",
    "\n",
    "        self.grad_w = np.dot(self.x.T, delta)\n",
    "        self.grad_b = np.sum(delta, axis=0)\n",
    "        self.grad_x = np.dot(delta, self.w.T)"
   ]
  },
  {
   "cell_type": "code",
   "execution_count": null,
   "metadata": {},
   "outputs": [],
   "source": [
    "# 식별자의 출력층\n",
    "class DiscOutLayer(BaseLayer):\n",
    "    def __init__(self, n_upper, n):\n",
    "        self.w = np.random.randn(n_upper, n)\n",
    "        self.b = np.zeros(n)\n",
    "\n",
    "    def forward(self, x):\n",
    "        self.x = x\n",
    "        u = np.dot(x, self.w) + self.b\n",
    "        self.y = 1/(1+np.exp(-u))\n",
    "\n",
    "    def backward(self, t):\n",
    "        delta = self.y-t\n",
    "\n",
    "        self.grad_w = np.dot(self.x.T, delta)\n",
    "        self.grad_b = np.dot(delta, axis=0)\n",
    "        self.grad_x = np.dot(delta self.w.T)"
   ]
  },
  {
   "cell_type": "code",
   "execution_count": null,
   "metadata": {},
   "outputs": [],
   "source": []
  },
  {
   "cell_type": "code",
   "execution_count": null,
   "metadata": {},
   "outputs": [],
   "source": [
    "## 순전파와 역전파의 구현\n",
    "\n",
    "#--각 신경망의 초기화--\n",
    "gen_layers = [MiddleLayer(n_noise, 32),\n",
    "              MiddleLayer(32,64),\n",
    "              GenOutLayer(64, img_size*img_size)]\n",
    "\n",
    "disc_layers = [MiddleLayer(img_size*img_size),\n",
    "               MiddleLayer(64,32),\n",
    "               GenOutLayer(32,1)]\n",
    "\n",
    "#--순전파 함수--\n",
    "def forward_propagation(x, layers):\n",
    "    for layer in layers:\n",
    "        layer.forward(x)\n",
    "        x = layer.y\n",
    "    return x\n",
    "\n",
    "#--역전파 함수--\n",
    "def backpropagation(t, layers):\n",
    "    grad_y = t\n",
    "    for layer in reversed(layers):\n",
    "        layer.backward(grad_y)\n",
    "        grad_y = layer.grad_X\n",
    "    return grad_y"
   ]
  },
  {
   "cell_type": "code",
   "execution_count": null,
   "metadata": {},
   "outputs": [],
   "source": [
    "# GAN의 훈련\n",
    "def train_model(x, t, prop_layers, update_layers):\n",
    "    y = forward_propagation(x, prop_layers)\n",
    "    backpropagation(t, prop_layers)\n",
    "    update_params(update_layers)\n",
    "\n",
    "    return(get_error(y,t), get_accuracy(y,t))"
   ]
  },
  {
   "cell_type": "code",
   "execution_count": null,
   "metadata": {},
   "outputs": [],
   "source": [
    "# GAN의 학습 코드\n",
    "batch_half = batch_size // 2\n",
    "error_record = np.zeros((n_learn, 2))\n",
    "acc_record = np.zeros((n_learn, 2))\n",
    "\n",
    "for i in range(n_learn):\n",
    "    \n",
    "    #노이즈에서 이미지를 생성하여 식별자를 훈련\n",
    "    noise = np.random.normal(0,1,(batch_half, n_noise))\n",
    "    imgs_fake = forward_propagation(noise, gen_layers)\n",
    "    t = np.zeros((batch_half, 1))\n",
    "    error, accuracy = train_model(imgs_fake, t, disc_layers, disc_layers)\n",
    "    error_record[i][0] = error\n",
    "    acc_record[i][0] = accuracy\n",
    "    \n",
    "    #실제이미지를 사용하여 식별자를 훈련\n",
    "    rand_ids = np.random.randint(len(x_train), size=batch_half)\n",
    "    imgs_real = x_train[rand_ids, :]\n",
    "    t = np.ones((batch_half, 1))\n",
    "    error, accuracy = train_model(imgs_real, t, disc_layers, disc_layers)\n",
    "    error_record[i][1] = error\n",
    "    acc_record[i][1] = accuracy\n",
    "\n",
    "    #생성자와 식별자 모델을 결합해 생성자를 훈련\n",
    "    noise = np.random.normal(0,1,(batch_size, n_noise))\n",
    "    t = np.ones((batch_size, 1))\n",
    "    train_model(noise, t, gen_layers+disc_layers, gen_layers)"
   ]
  },
  {
   "cell_type": "code",
   "execution_count": null,
   "metadata": {},
   "outputs": [],
   "source": [
    "# 이미지 생성 코드\n",
    "\n",
    "def generate_images(i):\n",
    "    n_rows = 16\n",
    "    n_cols = 16\n",
    "    noise = np.random.normal(0,1,(n_rows*n_cols, n_noise))\n",
    "    g_imgs = forward_propagation(noise, gen_layers)\n",
    "    g_imgs = g_img/2 + 0.5\n",
    "\n",
    "    img_size_spaced = img_size + 2\n",
    "\n",
    "    matrix_image = np.zeros((img_size_spaced*n_rows, img_size_spaced*n_cols))\n",
    "\n",
    "    for r in range(n_rows):\n",
    "        for c in range(n_cols):\n",
    "            g_img = g_imgs[r*n_cols + c].reshape(img_size, img_size)\n",
    "            top = r*img_size_spaced\n",
    "            left = c*img_size_spaced\n",
    "            matrix_image[top : top+img_size, left : left+img_size] = g_img\n",
    "\n",
    "\n",
    "    plt.figure(figsize=(8,8))\n",
    "    plt.imshow(matrix_image.tolist(), cmap='Greys_r')\n",
    "    plt.tick_params(labelbottom=False, labelleft=False, bottom=False, left=False)\n",
    "    plt.show()"
   ]
  }
 ],
 "metadata": {
  "language_info": {
   "name": "python"
  }
 },
 "nbformat": 4,
 "nbformat_minor": 2
}
